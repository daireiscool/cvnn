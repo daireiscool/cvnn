{
 "cells": [
  {
   "cell_type": "code",
   "execution_count": 1,
   "metadata": {},
   "outputs": [],
   "source": [
    "import numpy as np\n",
    "import random\n",
    "from sklearn.utils import shuffle\n",
    "from sklearn.model_selection import train_test_split\n",
    "from sklearn.datasets import make_regression\n",
    "import matplotlib.pyplot as plt\n",
    "\n",
    "class BasicActivation():\n",
    "    \"\"\"\n",
    "    A basic activation function.\n",
    "    \"\"\"\n",
    "    \n",
    "    def __init__(self):\n",
    "        \"\"\"\n",
    "        ::param input: (float) A single value \n",
    "        ::output: (float)\n",
    "        \"\"\"\n",
    "        pass\n",
    "\n",
    "    def activate(self, inputs):\n",
    "        \"\"\"\n",
    "        Activation function.\n",
    "        \n",
    "        ::param inputs: (list|array)\n",
    "        \"\"\"\n",
    "        return inputs\n",
    "    \n",
    "    def diff(self, inputs):\n",
    "        \"\"\"\n",
    "        Differential of the activation function.\n",
    "        \n",
    "        ::param inputs: (list|array)\n",
    "        \"\"\"\n",
    "        return 1\n",
    "\n",
    "\n",
    "class NN():\n",
    "    \"\"\"\n",
    "    Class implication of a generic Neural Network whose\n",
    "        weights can be Real, Complex or Other.\n",
    "    \"\"\"\n",
    "    \n",
    "    def __init__(\n",
    "        self,\n",
    "        input_size: int = 2,\n",
    "        output_size: int = 1,\n",
    "        activation_functions: list = [],\n",
    "        layers: list = [8,],\n",
    "        verbose: bool = True,\n",
    "        random_seed: int = 0,\n",
    "        ):\n",
    "        \"\"\"\n",
    "        Initialisation of the NN class.\n",
    "        \n",
    "        The inputs are:\n",
    "        ::param input_size: (int)\n",
    "        ::param output_size: (int)\n",
    "        ::param activation_functions: (list[functions]) Activation for each layer\n",
    "        ::param layers: (list[int]) List of neurons per layer.\n",
    "        ::param verbose: (bool) To print outputs/logs.\n",
    "        ::param random_seed: (int) Random seed.\n",
    "        \"\"\"\n",
    "        self.input_size = input_size\n",
    "        self.output_size = output_size\n",
    "        self.activation_functions = activation_functions\n",
    "        self.layers = layers\n",
    "        self.verbose = verbose\n",
    "        random.seed(random_seed)\n",
    "        self.random_seed = random_seed\n",
    "        \n",
    "        self.weights = self._initialise_weights()\n",
    "\n",
    "\n",
    "    def _initialise_weights(self):\n",
    "        \"\"\"\n",
    "        Function to initialise weights for the layers\n",
    "            with random weights.\n",
    "        \n",
    "        ::output: (list[arrays])\n",
    "        \"\"\"\n",
    "        weights = []\n",
    "        for num, layer in enumerate(self.layers + [self.output_size]):\n",
    "            if num == 0:\n",
    "                weights = weights + [\n",
    "                    np.array([[random.uniform(-10, 10) for val in range(self.input_size+1)]\n",
    "                              for r in range(layer)])\n",
    "                ]    \n",
    "            else:\n",
    "                weights = weights + [\n",
    "                    np.array([[random.uniform(-10, 10) for val in range(self.layers[num-1]+1)]\n",
    "                              for r in range(layer)])\n",
    "                ]    \n",
    "        return weights            \n",
    "\n",
    "\n",
    "    def _log(self, args):\n",
    "        \"\"\"\n",
    "        Simple print of a log function.\n",
    "        \"\"\"\n",
    "        if self.verbose:\n",
    "            print(*args)\n",
    "\n",
    "\n",
    "    def _mse(self, y_pred, y):\n",
    "        \"\"\"\n",
    "        Mean Squared Error.\n",
    "        \n",
    "        ::param y_pred: (array)\n",
    "        ::param y: (array)\n",
    "        \"\"\"\n",
    "        return sum((y*1 - y_pred)**2)/len(y)\n",
    "        \n",
    "        \n",
    "    def fit(\n",
    "        self,\n",
    "        X_train,\n",
    "        y_train,\n",
    "        loss: classmethod,\n",
    "        backpropogation_function: function,\n",
    "        validation_data: list = (),\n",
    "        validation_size: float = 0,\n",
    "        alpha: float= 1e3,\n",
    "        early_stopping: float = 1e-5,\n",
    "        epoch: int = 100,\n",
    "        n_iter: int = 10_000\n",
    "    ):\n",
    "        \"\"\"\n",
    "        Function to train a Neural Network on inputed data.\n",
    "        \n",
    "        ::param X_train: (pandas dataframe|ndarray)\n",
    "        ::param y_train: (pandas series|array)\n",
    "        ::param loss: (class)\n",
    "        ::param backpropogation_function: (function)\n",
    "        ::param validation_data: (list[ndarray, array]) Data to validate the model on\n",
    "        ::param validation_size: (float) Splits the training data if > 0 and validation_data is empty\n",
    "        ::param alpha: (float) Learning step size\n",
    "        ::param early_stopping: (float) Stops training if difference is less than value\n",
    "        ::param epoch: (int) Epoch size for training\n",
    "        ::param n_iter: (int) Max number of training iterations\n",
    "        \"\"\"\n",
    "        \n",
    "        if validation_data | validation_size:\n",
    "            self.validation = True\n",
    "            self._log(\"Using Validation Data\")\n",
    "            if validation_data:\n",
    "                X_train, y_train = shuffle(X_train, y_train, self.random_seed)\n",
    "                X_val, y_val = shuffle(\n",
    "                    *validation_data, self.random_seed)\n",
    "            else:\n",
    "                X_train, y_train, X_val, y_val = train_test_split(\n",
    "                    X_train, y_train, test_size=validation_size, random_state=self.random_seed)\n",
    "        else:\n",
    "            self.validation = False        \n",
    "        \n",
    "        self.X_train = X_train\n",
    "        self.y_train = y_train\n",
    "        self.loss = loss\n",
    "        self.backpropogation_function = backpropogation_function\n",
    "        self.X_val = X_val\n",
    "        self.y_val = y_val\n",
    "        self.alpha = alpha\n",
    "        self.early_stopping = early_stopping\n",
    "        self.epoch = epoch\n",
    "        self.n_iter = n_iter\n",
    "\n",
    "        self.loss_train = np.array([])\n",
    "        self.loss_val = np.array([])\n",
    "\n",
    "\n",
    "    def predict(self, X):\n",
    "        \"\"\"\n",
    "        Function to predict based on given weights.\n",
    "\n",
    "        ::param X: (pandas dataframe|ndarray) Data to evaluate/ predict model against\n",
    "        \"\"\"\n",
    "        y_pred = np.array([])\n",
    "\n",
    "        for i in X:\n",
    "            z = i\n",
    "            for num, weight in enumerate(self.weights):\n",
    "                z = np.append(z, 1)\n",
    "                z = z*weight\n",
    "                z = self.activation_functions[num]().activate(np.sum(z, axis = 1))\n",
    "            y_pred  = np.append(y_pred, z)\n",
    "        \n",
    "        return y_pred"
   ]
  },
  {
   "cell_type": "code",
   "execution_count": 2,
   "metadata": {},
   "outputs": [],
   "source": [
    "# Create datasets\n",
    "X, y = make_regression(\n",
    "    n_samples = 200,\n",
    "    n_features = 2,\n",
    "    n_informative = 2,\n",
    "    n_targets = 1,#\n",
    "    #bias = 0.1,\n",
    "    noise=0,\n",
    "    random_state=4\n",
    ")"
   ]
  },
  {
   "cell_type": "code",
   "execution_count": null,
   "metadata": {},
   "outputs": [],
   "source": []
  },
  {
   "cell_type": "code",
   "execution_count": 3,
   "metadata": {
    "scrolled": true
   },
   "outputs": [],
   "source": [
    "self = NN(input_size = X.shape[1], output_size = 1, layers = [8, 8, 8], activation_functions = [BasicActivation]*4)"
   ]
  },
  {
   "cell_type": "code",
   "execution_count": 4,
   "metadata": {},
   "outputs": [],
   "source": [
    "# Use Genetical Algorithims to train weights\n",
    "import pygad\n",
    "\n",
    "# Get correct number of parameters\n",
    "parameters = 0\n",
    "for weight in self.weights:\n",
    "    parameters += np.product(weight.shape)"
   ]
  },
  {
   "cell_type": "code",
   "execution_count": 5,
   "metadata": {},
   "outputs": [],
   "source": [
    "def array2ndarray(parameters, weights):\n",
    "    \"\"\"\n",
    "    Function to convert a list to the weights of of the neural network.\n",
    "    \n",
    "    ::param parameters: (array)\n",
    "    ::output: (list[array])\n",
    "    \"\"\"\n",
    "    output = []\n",
    "    for weight in weights:\n",
    "        size = np.product(weight.shape)\n",
    "        \n",
    "        output += [np.reshape(parameters[:size], weight.shape)]\n",
    "        parameters = parameters[size:]\n",
    "    return output"
   ]
  },
  {
   "cell_type": "code",
   "execution_count": 6,
   "metadata": {},
   "outputs": [],
   "source": [
    "def mse(y_pred, y):\n",
    "    \"\"\"\n",
    "    Mean Squared Error.\n",
    "\n",
    "    ::param y_pred: (array)\n",
    "    ::param y: (array)\n",
    "    \"\"\"\n",
    "    return sum((y*1 - y_pred)**2)/len(y)\n"
   ]
  },
  {
   "cell_type": "code",
   "execution_count": 7,
   "metadata": {},
   "outputs": [],
   "source": [
    "def fitness_func(solution, solution_idx):\n",
    "    self.weights = array2ndarray(solution, self.weights)\n",
    "    y_pred = self.predict(X)\n",
    "    return -1*mse(y_pred, y)"
   ]
  },
  {
   "cell_type": "code",
   "execution_count": 8,
   "metadata": {},
   "outputs": [
    {
     "data": {
      "text/plain": [
       "177"
      ]
     },
     "execution_count": 8,
     "metadata": {},
     "output_type": "execute_result"
    }
   ],
   "source": [
    "parameters"
   ]
  },
  {
   "cell_type": "code",
   "execution_count": 9,
   "metadata": {},
   "outputs": [],
   "source": [
    "fitness_function = fitness_func\n",
    "\n",
    "num_generations = 100\n",
    "num_parents_mating = 10\n",
    "gene_type=float\n",
    "\n",
    "sol_per_pop = 100\n",
    "num_genes = int(parameters)\n",
    "\n",
    "init_range_low = -10\n",
    "init_range_high = 10\n",
    "\n",
    "parent_selection_type = \"sss\"\n",
    "keep_parents = 2\n",
    "\n",
    "crossover_type = \"single_point\"\n",
    "\n",
    "mutation_type = \"random\"\n",
    "mutation_percent_genes = 5"
   ]
  },
  {
   "cell_type": "code",
   "execution_count": 10,
   "metadata": {},
   "outputs": [],
   "source": [
    "def on_fitness(ga_instance, population_fitness):\n",
    "    print(f\"{ga_instance} = Best Loss: {max(population_fitness)}\")\n"
   ]
  },
  {
   "cell_type": "code",
   "execution_count": 11,
   "metadata": {},
   "outputs": [],
   "source": [
    "ga_instance = pygad.GA(num_generations=num_generations,\n",
    "                       num_parents_mating=num_parents_mating,\n",
    "                       fitness_func=fitness_function,\n",
    "                       sol_per_pop=sol_per_pop,\n",
    "                       gene_type=gene_type,\n",
    "                       num_genes=num_genes,\n",
    "                       init_range_low=init_range_low,\n",
    "                       init_range_high=init_range_high,\n",
    "                       parent_selection_type=parent_selection_type,\n",
    "                       keep_parents=keep_parents,\n",
    "                       parallel_processing=128,\n",
    "                       crossover_type=crossover_type,\n",
    "                       mutation_type=mutation_type,\n",
    "                       on_fitness = on_fitness,\n",
    "                       mutation_percent_genes=mutation_percent_genes)\n"
   ]
  },
  {
   "cell_type": "code",
   "execution_count": 12,
   "metadata": {},
   "outputs": [
    {
     "name": "stdout",
     "output_type": "stream",
     "text": [
      "<pygad.pygad.GA object at 0x000001BF4B7A0370> = Best Loss: -165106863.97269538\n",
      "<pygad.pygad.GA object at 0x000001BF4B7A0370> = Best Loss: -165106863.97269538\n",
      "<pygad.pygad.GA object at 0x000001BF4B7A0370> = Best Loss: -165106863.97269538\n",
      "<pygad.pygad.GA object at 0x000001BF4B7A0370> = Best Loss: -85852482.42177433\n",
      "<pygad.pygad.GA object at 0x000001BF4B7A0370> = Best Loss: -85119398.41476348\n",
      "<pygad.pygad.GA object at 0x000001BF4B7A0370> = Best Loss: -85119398.41476348\n",
      "<pygad.pygad.GA object at 0x000001BF4B7A0370> = Best Loss: -73239335.38026932\n",
      "<pygad.pygad.GA object at 0x000001BF4B7A0370> = Best Loss: -73239335.38026932\n",
      "<pygad.pygad.GA object at 0x000001BF4B7A0370> = Best Loss: -73239335.38026932\n",
      "<pygad.pygad.GA object at 0x000001BF4B7A0370> = Best Loss: -73239335.38026932\n",
      "<pygad.pygad.GA object at 0x000001BF4B7A0370> = Best Loss: -54374492.12266657\n",
      "<pygad.pygad.GA object at 0x000001BF4B7A0370> = Best Loss: -54374492.12266657\n",
      "<pygad.pygad.GA object at 0x000001BF4B7A0370> = Best Loss: -49016371.75601168\n",
      "<pygad.pygad.GA object at 0x000001BF4B7A0370> = Best Loss: -37603193.782047816\n",
      "<pygad.pygad.GA object at 0x000001BF4B7A0370> = Best Loss: -37603193.782047816\n",
      "<pygad.pygad.GA object at 0x000001BF4B7A0370> = Best Loss: -19783681.812943373\n",
      "<pygad.pygad.GA object at 0x000001BF4B7A0370> = Best Loss: -19783681.812943373\n",
      "<pygad.pygad.GA object at 0x000001BF4B7A0370> = Best Loss: -14065884.16278863\n",
      "<pygad.pygad.GA object at 0x000001BF4B7A0370> = Best Loss: -14022289.930734828\n",
      "<pygad.pygad.GA object at 0x000001BF4B7A0370> = Best Loss: -7206502.054544316\n",
      "<pygad.pygad.GA object at 0x000001BF4B7A0370> = Best Loss: -3690089.459986242\n",
      "<pygad.pygad.GA object at 0x000001BF4B7A0370> = Best Loss: -2109419.244929653\n",
      "<pygad.pygad.GA object at 0x000001BF4B7A0370> = Best Loss: -2109419.244929653\n",
      "<pygad.pygad.GA object at 0x000001BF4B7A0370> = Best Loss: -2109419.244929653\n",
      "<pygad.pygad.GA object at 0x000001BF4B7A0370> = Best Loss: -1177402.3547007442\n",
      "<pygad.pygad.GA object at 0x000001BF4B7A0370> = Best Loss: -1177402.3547007442\n",
      "<pygad.pygad.GA object at 0x000001BF4B7A0370> = Best Loss: -1177402.3547007442\n",
      "<pygad.pygad.GA object at 0x000001BF4B7A0370> = Best Loss: -1177402.3547007442\n",
      "<pygad.pygad.GA object at 0x000001BF4B7A0370> = Best Loss: -1177402.3547007442\n",
      "<pygad.pygad.GA object at 0x000001BF4B7A0370> = Best Loss: -1177402.3547007442\n",
      "<pygad.pygad.GA object at 0x000001BF4B7A0370> = Best Loss: -1177402.3547007442\n",
      "<pygad.pygad.GA object at 0x000001BF4B7A0370> = Best Loss: -1177402.3547007442\n",
      "<pygad.pygad.GA object at 0x000001BF4B7A0370> = Best Loss: -1177402.3547007442\n",
      "<pygad.pygad.GA object at 0x000001BF4B7A0370> = Best Loss: -1177402.3547007442\n",
      "<pygad.pygad.GA object at 0x000001BF4B7A0370> = Best Loss: -1177402.3547007442\n",
      "<pygad.pygad.GA object at 0x000001BF4B7A0370> = Best Loss: -1177402.3547007442\n",
      "<pygad.pygad.GA object at 0x000001BF4B7A0370> = Best Loss: -646270.3966792916\n",
      "<pygad.pygad.GA object at 0x000001BF4B7A0370> = Best Loss: -646270.3966792916\n",
      "<pygad.pygad.GA object at 0x000001BF4B7A0370> = Best Loss: -646270.3966792916\n",
      "<pygad.pygad.GA object at 0x000001BF4B7A0370> = Best Loss: -646270.3966792916\n",
      "<pygad.pygad.GA object at 0x000001BF4B7A0370> = Best Loss: -646270.3966792916\n",
      "<pygad.pygad.GA object at 0x000001BF4B7A0370> = Best Loss: -646270.3966792916\n",
      "<pygad.pygad.GA object at 0x000001BF4B7A0370> = Best Loss: -646270.3966792916\n",
      "<pygad.pygad.GA object at 0x000001BF4B7A0370> = Best Loss: -646270.3966792916\n",
      "<pygad.pygad.GA object at 0x000001BF4B7A0370> = Best Loss: -646270.3966792916\n",
      "<pygad.pygad.GA object at 0x000001BF4B7A0370> = Best Loss: -646270.3966792916\n",
      "<pygad.pygad.GA object at 0x000001BF4B7A0370> = Best Loss: -646270.3966792916\n",
      "<pygad.pygad.GA object at 0x000001BF4B7A0370> = Best Loss: -646270.3966792916\n",
      "<pygad.pygad.GA object at 0x000001BF4B7A0370> = Best Loss: -646270.3966792916\n",
      "<pygad.pygad.GA object at 0x000001BF4B7A0370> = Best Loss: -646270.3966792916\n",
      "<pygad.pygad.GA object at 0x000001BF4B7A0370> = Best Loss: -646270.3966792916\n",
      "<pygad.pygad.GA object at 0x000001BF4B7A0370> = Best Loss: -646270.3966792916\n",
      "<pygad.pygad.GA object at 0x000001BF4B7A0370> = Best Loss: -424237.56438088027\n",
      "<pygad.pygad.GA object at 0x000001BF4B7A0370> = Best Loss: -424237.56438088027\n",
      "<pygad.pygad.GA object at 0x000001BF4B7A0370> = Best Loss: -424237.56438088027\n",
      "<pygad.pygad.GA object at 0x000001BF4B7A0370> = Best Loss: -424237.56438088027\n",
      "<pygad.pygad.GA object at 0x000001BF4B7A0370> = Best Loss: -66917.68680086322\n",
      "<pygad.pygad.GA object at 0x000001BF4B7A0370> = Best Loss: -66917.68680086322\n",
      "<pygad.pygad.GA object at 0x000001BF4B7A0370> = Best Loss: -66917.68680086322\n",
      "<pygad.pygad.GA object at 0x000001BF4B7A0370> = Best Loss: -66917.68680086322\n",
      "<pygad.pygad.GA object at 0x000001BF4B7A0370> = Best Loss: -66917.68680086322\n",
      "<pygad.pygad.GA object at 0x000001BF4B7A0370> = Best Loss: -42435.47382816752\n",
      "<pygad.pygad.GA object at 0x000001BF4B7A0370> = Best Loss: -42435.47382816752\n",
      "<pygad.pygad.GA object at 0x000001BF4B7A0370> = Best Loss: -42435.47382816752\n",
      "<pygad.pygad.GA object at 0x000001BF4B7A0370> = Best Loss: -42435.47382816752\n",
      "<pygad.pygad.GA object at 0x000001BF4B7A0370> = Best Loss: -42435.47382816752\n",
      "<pygad.pygad.GA object at 0x000001BF4B7A0370> = Best Loss: -42435.47382816752\n",
      "<pygad.pygad.GA object at 0x000001BF4B7A0370> = Best Loss: -42435.47382816752\n",
      "<pygad.pygad.GA object at 0x000001BF4B7A0370> = Best Loss: -42435.47382816752\n",
      "<pygad.pygad.GA object at 0x000001BF4B7A0370> = Best Loss: -42435.47382816752\n",
      "<pygad.pygad.GA object at 0x000001BF4B7A0370> = Best Loss: -42435.47382816752\n",
      "<pygad.pygad.GA object at 0x000001BF4B7A0370> = Best Loss: -42435.47382816752\n",
      "<pygad.pygad.GA object at 0x000001BF4B7A0370> = Best Loss: -42435.47382816752\n",
      "<pygad.pygad.GA object at 0x000001BF4B7A0370> = Best Loss: -42435.47382816752\n",
      "<pygad.pygad.GA object at 0x000001BF4B7A0370> = Best Loss: -42435.47382816752\n",
      "<pygad.pygad.GA object at 0x000001BF4B7A0370> = Best Loss: -42435.47382816752\n",
      "<pygad.pygad.GA object at 0x000001BF4B7A0370> = Best Loss: -42435.47382816752\n",
      "<pygad.pygad.GA object at 0x000001BF4B7A0370> = Best Loss: -42435.47382816752\n",
      "<pygad.pygad.GA object at 0x000001BF4B7A0370> = Best Loss: -42435.47382816752\n",
      "<pygad.pygad.GA object at 0x000001BF4B7A0370> = Best Loss: -42435.47382816752\n",
      "<pygad.pygad.GA object at 0x000001BF4B7A0370> = Best Loss: -7104.787947742992\n",
      "<pygad.pygad.GA object at 0x000001BF4B7A0370> = Best Loss: -7104.787947742992\n",
      "<pygad.pygad.GA object at 0x000001BF4B7A0370> = Best Loss: -7104.787947742992\n",
      "<pygad.pygad.GA object at 0x000001BF4B7A0370> = Best Loss: -7104.787947742992\n",
      "<pygad.pygad.GA object at 0x000001BF4B7A0370> = Best Loss: -7104.787947742992\n",
      "<pygad.pygad.GA object at 0x000001BF4B7A0370> = Best Loss: -7104.787947742992\n",
      "<pygad.pygad.GA object at 0x000001BF4B7A0370> = Best Loss: -7104.787947742992\n",
      "<pygad.pygad.GA object at 0x000001BF4B7A0370> = Best Loss: -7104.787947742992\n",
      "<pygad.pygad.GA object at 0x000001BF4B7A0370> = Best Loss: -7104.787947742992\n",
      "<pygad.pygad.GA object at 0x000001BF4B7A0370> = Best Loss: -7104.787947742992\n",
      "<pygad.pygad.GA object at 0x000001BF4B7A0370> = Best Loss: -7104.787947742992\n",
      "<pygad.pygad.GA object at 0x000001BF4B7A0370> = Best Loss: -7104.787947742992\n",
      "<pygad.pygad.GA object at 0x000001BF4B7A0370> = Best Loss: -7104.787947742992\n",
      "<pygad.pygad.GA object at 0x000001BF4B7A0370> = Best Loss: -7104.787947742992\n",
      "<pygad.pygad.GA object at 0x000001BF4B7A0370> = Best Loss: -7104.787947742992\n",
      "<pygad.pygad.GA object at 0x000001BF4B7A0370> = Best Loss: -7104.787947742992\n",
      "<pygad.pygad.GA object at 0x000001BF4B7A0370> = Best Loss: -7104.787947742992\n",
      "<pygad.pygad.GA object at 0x000001BF4B7A0370> = Best Loss: -7104.787947742992\n",
      "<pygad.pygad.GA object at 0x000001BF4B7A0370> = Best Loss: -7104.787947742992\n",
      "<pygad.pygad.GA object at 0x000001BF4B7A0370> = Best Loss: -7104.787947742992\n"
     ]
    }
   ],
   "source": [
    "ga_instance.run()"
   ]
  },
  {
   "cell_type": "code",
   "execution_count": 13,
   "metadata": {},
   "outputs": [
    {
     "name": "stdout",
     "output_type": "stream",
     "text": [
      "Fitness value of the best solution = -7104.787947742992\n",
      "Generic Prediction : -751016.6443721614\n"
     ]
    }
   ],
   "source": [
    "solution, solution_fitness, solution_idx = ga_instance.best_solution()\n",
    "#print(\"Parameters of the best solution : {solution}\".format(solution=solution))\n",
    "print(\"Fitness value of the best solution = {solution_fitness}\".format(solution_fitness=solution_fitness))\n",
    "\n",
    "print(f\"Generic Prediction : {fitness_func([1]*int(parameters), None)}\")\n"
   ]
  },
  {
   "cell_type": "code",
   "execution_count": 14,
   "metadata": {},
   "outputs": [],
   "source": [
    "self.weights = array2ndarray(solution, self.weights)\n",
    "y_pred = self.predict(X)"
   ]
  },
  {
   "cell_type": "code",
   "execution_count": 15,
   "metadata": {},
   "outputs": [
    {
     "data": {
      "text/plain": [
       "[<matplotlib.lines.Line2D at 0x1bf4b7ca8e0>]"
      ]
     },
     "execution_count": 15,
     "metadata": {},
     "output_type": "execute_result"
    },
    {
     "data": {
      "image/png": "[encoded data removed]",
      "text/plain": [
       "<Figure size 432x288 with 1 Axes>"
      ]
     },
     "metadata": {
      "needs_background": "light"
     },
     "output_type": "display_data"
    }
   ],
   "source": [
    "plt.scatter(x = y, y = y_pred)\n",
    "plt.plot([min(y), max(y)], [min(y), max(y)])"
   ]
  },
  {
   "cell_type": "code",
   "execution_count": null,
   "metadata": {},
   "outputs": [],
   "source": []
  },
  {
   "cell_type": "code",
   "execution_count": null,
   "metadata": {},
   "outputs": [],
   "source": []
  }
 ],
 "metadata": {
  "kernelspec": {
   "display_name": "Python 3",
   "language": "python",
   "name": "python3"
  },
  "language_info": {
   "codemirror_mode": {
    "name": "ipython",
    "version": 3
   },
   "file_extension": ".py",
   "mimetype": "text/x-python",
   "name": "python",
   "nbconvert_exporter": "python",
   "pygments_lexer": "ipython3",
   "version": "3.8.5"
  },
  "vscode": {
   "interpreter": {
    "hash": "d75af684bc2d43b24852edad0f68f7cdb57df0ef378bc27b5f5cba476e78e901"
   }
  }
 },
 "nbformat": 4,
 "nbformat_minor": 4
}
