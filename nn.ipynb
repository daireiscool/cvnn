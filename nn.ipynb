{
 "cells": [
  {
   "cell_type": "code",
   "execution_count": 52,
   "metadata": {},
   "outputs": [],
   "source": [
    "import numpy as np\n",
    "import random\n",
    "from sklearn.utils import shuffle\n",
    "from sklearn.model_selection import train_test_split\n",
    "from sklearn.datasets import make_regression\n",
    "import matplotlib.pyplot as plt\n",
    "import tqdm\n",
    "import seaborn as sns\n",
    "try:\n",
    "    from jupyterthemes import jtplot\n",
    "    jtplot.style()\n",
    "except ImportError:\n",
    "    print(\"jtplot not found, using default style\")\n",
    "plt.rcParams['figure.figsize'] = [12, 8]\n",
    "\n",
    "from real import *"
   ]
  },
  {
   "cell_type": "code",
   "execution_count": 53,
   "metadata": {},
   "outputs": [],
   "source": [
    "class NN():\n",
    "    \"\"\"\n",
    "    Class implication of a generic Neural Network whose\n",
    "        weights can be Real, Complex or Other.\n",
    "    \"\"\"\n",
    "    \n",
    "    def __init__(\n",
    "        self,\n",
    "        input_size: int = 2,\n",
    "        output_size: int = 1,\n",
    "        activation_functions: list = [],\n",
    "        layers: list = [8,],\n",
    "        verbose: bool = True,\n",
    "        random_seed: int = 0,\n",
    "        ):\n",
    "        \"\"\"\n",
    "        Initialisation of the NN class.\n",
    "        \n",
    "        The inputs are:\n",
    "        ::param input_size: (int)\n",
    "        ::param output_size: (int)\n",
    "        ::param activation_functions: (list[functions]) Activation for each layer\n",
    "        ::param layers: (list[int]) List of neurons per layer.\n",
    "        ::param verbose: (bool) To print outputs/logs.\n",
    "        ::param random_seed: (int) Random seed.\n",
    "        \"\"\"        \n",
    "        random.seed(random_seed)\n",
    "        self.info = {\n",
    "            \"input_size\" : input_size,\n",
    "            \"output_size\" : output_size,\n",
    "            \"activation_functions\" : activation_functions,\n",
    "            \"layers\" : layers,\n",
    "            \"verbose\" : verbose,\n",
    "            \"random_seed\" : random_seed\n",
    "            }\n",
    "        self.info[\"weights\"] = self._initialise_weights()\n",
    "\n",
    "    def _initialise_weights(self):\n",
    "        \"\"\"\n",
    "        Function to initialise weights for the layers\n",
    "            with random weights.\n",
    "        \n",
    "        ::output: (list[arrays])\n",
    "        \"\"\"\n",
    "        weights = []\n",
    "        for num, layer in enumerate(self.info[\"layers\"] + [self.info[\"output_size\"]]):\n",
    "            if num == 0:\n",
    "                weights = weights + [\n",
    "                    np.array([[random.uniform(-10, 10) for val in range(self.info[\"input_size\"])] + [0]\n",
    "                              for r in range(layer)])\n",
    "                ]    \n",
    "            else:\n",
    "                weights = weights + [\n",
    "                    np.array([[random.uniform(-10, 10) for val in range(self.info[\"layers\"][num-1])] + [0]\n",
    "                              for r in range(layer)])\n",
    "                ]    \n",
    "        return weights            \n",
    "\n",
    "\n",
    "    def _log(self, args):\n",
    "        \"\"\"\n",
    "        Simple print of a log function.\n",
    "        \"\"\"\n",
    "        if self.info[\"verbose\"]:\n",
    "            print(*args)\n",
    "\n",
    "        \n",
    "    def fit(\n",
    "        self,\n",
    "        X_train,\n",
    "        y_train,\n",
    "        loss: classmethod,\n",
    "        backpropogation_function = back_propogation,\n",
    "        validation_data: list = (),\n",
    "        validation_size: float = 0,\n",
    "        alpha: float= 1e3,\n",
    "        early_stopping: float = 1e-5,\n",
    "        epoch: int = 100,\n",
    "        n_iter: int = 10_000\n",
    "    ):\n",
    "        \"\"\"\n",
    "        Function to train a Neural Network on inputed data.\n",
    "        \n",
    "        ::param X_train: (pandas dataframe|ndarray)\n",
    "        ::param y_train: (pandas series|array)\n",
    "        ::param loss: (class)\n",
    "        ::param backpropogation_function: (function)\n",
    "        ::param validation_data: (list[ndarray, array]) Data to validate the model on\n",
    "        ::param validation_size: (float) Splits the training data if > 0 and validation_data is empty\n",
    "        ::param alpha: (float) Learning step size\n",
    "        ::param early_stopping: (float) Stops training if difference is less than value\n",
    "        ::param epoch: (int) Epoch size for training\n",
    "        ::param n_iter: (int) Max number of training iterations\n",
    "        \"\"\"\n",
    "        \n",
    "        if validation_data | validation_size:\n",
    "            self.info[\"validation\"] = True\n",
    "            self._log(\"Using Validation Data\")\n",
    "            if validation_data:\n",
    "                X_train, y_train = shuffle(X_train, y_train, self.random_seed)\n",
    "                X_val, y_val = shuffle(\n",
    "                    *validation_data, self.random_seed)\n",
    "            else:\n",
    "                X_train, y_train, X_val, y_val = train_test_split(\n",
    "                    X_train, y_train, test_size=validation_size, random_state=self.random_seed)\n",
    "        else:\n",
    "            X_val, y_val = None, None\n",
    "            self.validation = False        \n",
    "        \n",
    "        self.backpropogation_function = backpropogation_function\n",
    "\n",
    "        self.info[\"X_train\"] = X_train\n",
    "        self.info[\"y_train\"] = y_train\n",
    "        self.info[\"loss\"] = loss\n",
    "        self.info[\"X_val\"] = X_val\n",
    "        self.info[\"y_val\"] = y_val\n",
    "        self.info[\"alpha\"] = alpha\n",
    "        self.info[\"early_stopping\"] = early_stopping\n",
    "        self.info[\"epoch\"] = epoch\n",
    "        self.info[\"n_iter\"] = n_iter\n",
    "\n",
    "        self.info[\"loss_train\"] = np.array([])\n",
    "        self.info[\"loss_val\"] = np.array([])\n",
    "        \n",
    "        self.info = self.backpropogation(self.info)\n",
    "\n",
    "\n",
    "    def predict(self, X):\n",
    "        \"\"\"\n",
    "        Function to predict based on given weights.\n",
    "\n",
    "        ::param X: (pandas dataframe|ndarray) Data to evaluate/ predict model against\n",
    "        \"\"\"\n",
    "        y_pred = np.array([])\n",
    "\n",
    "        for i in X:\n",
    "            z = i\n",
    "            for num, weight in enumerate(self.info[\"weights\"]):\n",
    "                z = np.append(z, 1)\n",
    "                z = z*weight\n",
    "                z = self.info[\"activation_functions\"][num]().activate(np.sum(z, axis = 1))\n",
    "            y_pred  = np.append(y_pred, z)\n",
    "        \n",
    "        return y_pred"
   ]
  },
  {
   "cell_type": "code",
   "execution_count": 54,
   "metadata": {},
   "outputs": [
    {
     "data": {
      "text/plain": [
       "<matplotlib.collections.PathCollection at 0x260d764e940>"
      ]
     },
     "execution_count": 54,
     "metadata": {},
     "output_type": "execute_result"
    },
    {
     "data": {
      "image/png": "[encoded data removed]",
      "text/plain": [
       "<Figure size 864x576 with 1 Axes>"
      ]
     },
     "metadata": {},
     "output_type": "display_data"
    }
   ],
   "source": [
    "# Create datasets\n",
    "X, y = make_regression(\n",
    "    n_samples = 200,\n",
    "    n_features = 2,\n",
    "    n_informative = 2,\n",
    "    n_targets = 1,#\n",
    "    #bias = 0.1,\n",
    "    noise=0,\n",
    "    random_state=4\n",
    ")\n",
    "\n",
    "# Training data\n",
    "plt.scatter(x = X[:,0], y = X[:,1], c = y)"
   ]
  },
  {
   "cell_type": "code",
   "execution_count": 55,
   "metadata": {
    "scrolled": true
   },
   "outputs": [],
   "source": [
    "nn = NN(input_size = X.shape[1], output_size = 1, layers = [8, 8, 8], activation_functions = [BasicActivation]*4)"
   ]
  },
  {
   "cell_type": "code",
   "execution_count": 56,
   "metadata": {},
   "outputs": [],
   "source": [
    "# Use Genetical Algorithims to train weights\n",
    "import pygad\n",
    "\n",
    "# Get correct number of parameters\n",
    "parameters = 0\n",
    "for weight in nn.info[\"weights\"]:\n",
    "    parameters += np.product(weight.shape)"
   ]
  },
  {
   "cell_type": "code",
   "execution_count": 57,
   "metadata": {},
   "outputs": [],
   "source": [
    "def array2ndarray(parameters, weights):\n",
    "    \"\"\"\n",
    "    Function to convert a list to the weights of of the neural network.\n",
    "    \n",
    "    ::param parameters: (array)\n",
    "    ::output: (list[array])\n",
    "    \"\"\"\n",
    "    output = []\n",
    "    for weight in weights:\n",
    "        size = np.product(weight.shape)\n",
    "        \n",
    "        output += [np.reshape(parameters[:size], weight.shape)]\n",
    "        parameters = parameters[size:]\n",
    "    return output"
   ]
  },
  {
   "cell_type": "code",
   "execution_count": 58,
   "metadata": {},
   "outputs": [],
   "source": [
    "class MeanSquareError():\n",
    "    \"\"\"\n",
    "    Mean Square Error loss\n",
    "    \"\"\"\n",
    "    def __init__(self):\n",
    "        \"\"\"\n",
    "        Initialise class\n",
    "        \"\"\"\n",
    "        pass\n",
    "\n",
    "    def loss(self, y_pred, y):\n",
    "        \"\"\"\n",
    "        Loss Function.\n",
    "\n",
    "        ::param y_pred: (array)\n",
    "        ::param y: (array)\n",
    "        \"\"\"\n",
    "        return sum((y*1 - y_pred)**2)/len(y)\n",
    "\n",
    "    def derivative(self, y_pred, y):\n",
    "        \"\"\"\n",
    "        Derivative of the Loss Function.\n",
    "\n",
    "        ::param y_pred: (array)\n",
    "        ::param y: (array)\n",
    "        \"\"\"\n",
    "        return (-2/len(y))*(y*1 - y_pred)\n",
    "        "
   ]
  },
  {
   "cell_type": "code",
   "execution_count": 59,
   "metadata": {},
   "outputs": [],
   "source": [
    "mse = MeanSquareError()\n",
    "\n",
    "def fitness_func(solution, solution_idx):\n",
    "    nn.info[\"weights\"] = array2ndarray(solution, nn.info[\"weights\"])\n",
    "    y_pred = self.predict(X)\n",
    "    return -1*mse.loss(y_pred, y)"
   ]
  },
  {
   "cell_type": "code",
   "execution_count": 60,
   "metadata": {},
   "outputs": [
    {
     "data": {
      "text/plain": [
       "177"
      ]
     },
     "execution_count": 60,
     "metadata": {},
     "output_type": "execute_result"
    }
   ],
   "source": [
    "parameters"
   ]
  },
  {
   "cell_type": "code",
   "execution_count": 61,
   "metadata": {},
   "outputs": [],
   "source": [
    "fitness_function = fitness_func\n",
    "\n",
    "num_generations = 100\n",
    "num_parents_mating = 10\n",
    "gene_type=float\n",
    "\n",
    "sol_per_pop = 100\n",
    "num_genes = int(parameters)\n",
    "\n",
    "init_range_low = -10\n",
    "init_range_high = 10\n",
    "\n",
    "parent_selection_type = \"sss\"\n",
    "keep_parents = 2\n",
    "\n",
    "crossover_type = \"single_point\"\n",
    "\n",
    "mutation_type = \"random\"\n",
    "mutation_percent_genes = 5"
   ]
  },
  {
   "cell_type": "code",
   "execution_count": 62,
   "metadata": {},
   "outputs": [],
   "source": [
    "def on_fitness(ga_instance, population_fitness):\n",
    "    print(f\"{ga_instance} = Best Loss: {max(population_fitness)}\")\n"
   ]
  },
  {
   "cell_type": "code",
   "execution_count": 63,
   "metadata": {},
   "outputs": [],
   "source": [
    "ga_instance = pygad.GA(num_generations=num_generations,\n",
    "                       num_parents_mating=num_parents_mating,\n",
    "                       fitness_func=fitness_function,\n",
    "                       sol_per_pop=sol_per_pop,\n",
    "                       gene_type=gene_type,\n",
    "                       num_genes=num_genes,\n",
    "                       init_range_low=init_range_low,\n",
    "                       init_range_high=init_range_high,\n",
    "                       parent_selection_type=parent_selection_type,\n",
    "                       keep_parents=keep_parents,\n",
    "                       parallel_processing=128,\n",
    "                       crossover_type=crossover_type,\n",
    "                       mutation_type=mutation_type,\n",
    "                       on_fitness = on_fitness,\n",
    "                       mutation_percent_genes=mutation_percent_genes)\n"
   ]
  },
  {
   "cell_type": "code",
   "execution_count": 64,
   "metadata": {},
   "outputs": [
    {
     "name": "stdout",
     "output_type": "stream",
     "text": [
      "<pygad.pygad.GA object at 0x00000260D78687C0> = Best Loss: -751016.6443721614\n",
      "<pygad.pygad.GA object at 0x00000260D78687C0> = Best Loss: -751016.6443721614\n",
      "<pygad.pygad.GA object at 0x00000260D78687C0> = Best Loss: -751016.6443721614\n",
      "<pygad.pygad.GA object at 0x00000260D78687C0> = Best Loss: -751016.6443721614\n",
      "<pygad.pygad.GA object at 0x00000260D78687C0> = Best Loss: -751016.6443721614\n",
      "<pygad.pygad.GA object at 0x00000260D78687C0> = Best Loss: -751016.6443721614\n",
      "<pygad.pygad.GA object at 0x00000260D78687C0> = Best Loss: -751016.6443721614\n",
      "<pygad.pygad.GA object at 0x00000260D78687C0> = Best Loss: -751016.6443721614\n",
      "<pygad.pygad.GA object at 0x00000260D78687C0> = Best Loss: -751016.6443721614\n",
      "<pygad.pygad.GA object at 0x00000260D78687C0> = Best Loss: -751016.6443721614\n",
      "<pygad.pygad.GA object at 0x00000260D78687C0> = Best Loss: -751016.6443721614\n",
      "<pygad.pygad.GA object at 0x00000260D78687C0> = Best Loss: -751016.6443721614\n",
      "<pygad.pygad.GA object at 0x00000260D78687C0> = Best Loss: -751016.6443721614\n",
      "<pygad.pygad.GA object at 0x00000260D78687C0> = Best Loss: -751016.6443721614\n",
      "<pygad.pygad.GA object at 0x00000260D78687C0> = Best Loss: -751016.6443721614\n",
      "<pygad.pygad.GA object at 0x00000260D78687C0> = Best Loss: -751016.6443721614\n",
      "<pygad.pygad.GA object at 0x00000260D78687C0> = Best Loss: -751016.6443721614\n",
      "<pygad.pygad.GA object at 0x00000260D78687C0> = Best Loss: -751016.6443721614\n",
      "<pygad.pygad.GA object at 0x00000260D78687C0> = Best Loss: -751016.6443721614\n",
      "<pygad.pygad.GA object at 0x00000260D78687C0> = Best Loss: -751016.6443721614\n",
      "<pygad.pygad.GA object at 0x00000260D78687C0> = Best Loss: -751016.6443721614\n",
      "<pygad.pygad.GA object at 0x00000260D78687C0> = Best Loss: -751016.6443721614\n",
      "<pygad.pygad.GA object at 0x00000260D78687C0> = Best Loss: -751016.6443721614\n",
      "<pygad.pygad.GA object at 0x00000260D78687C0> = Best Loss: -751016.6443721614\n",
      "<pygad.pygad.GA object at 0x00000260D78687C0> = Best Loss: -751016.6443721614\n",
      "<pygad.pygad.GA object at 0x00000260D78687C0> = Best Loss: -751016.6443721614\n",
      "<pygad.pygad.GA object at 0x00000260D78687C0> = Best Loss: -751016.6443721614\n",
      "<pygad.pygad.GA object at 0x00000260D78687C0> = Best Loss: -751016.6443721614\n",
      "<pygad.pygad.GA object at 0x00000260D78687C0> = Best Loss: -751016.6443721614\n",
      "<pygad.pygad.GA object at 0x00000260D78687C0> = Best Loss: -751016.6443721614\n",
      "<pygad.pygad.GA object at 0x00000260D78687C0> = Best Loss: -751016.6443721614\n",
      "<pygad.pygad.GA object at 0x00000260D78687C0> = Best Loss: -751016.6443721614\n",
      "<pygad.pygad.GA object at 0x00000260D78687C0> = Best Loss: -751016.6443721614\n",
      "<pygad.pygad.GA object at 0x00000260D78687C0> = Best Loss: -751016.6443721614\n",
      "<pygad.pygad.GA object at 0x00000260D78687C0> = Best Loss: -751016.6443721614\n",
      "<pygad.pygad.GA object at 0x00000260D78687C0> = Best Loss: -751016.6443721614\n",
      "<pygad.pygad.GA object at 0x00000260D78687C0> = Best Loss: -751016.6443721614\n",
      "<pygad.pygad.GA object at 0x00000260D78687C0> = Best Loss: -751016.6443721614\n",
      "<pygad.pygad.GA object at 0x00000260D78687C0> = Best Loss: -751016.6443721614\n",
      "<pygad.pygad.GA object at 0x00000260D78687C0> = Best Loss: -751016.6443721614\n",
      "<pygad.pygad.GA object at 0x00000260D78687C0> = Best Loss: -751016.6443721614\n",
      "<pygad.pygad.GA object at 0x00000260D78687C0> = Best Loss: -751016.6443721614\n",
      "<pygad.pygad.GA object at 0x00000260D78687C0> = Best Loss: -751016.6443721614\n",
      "<pygad.pygad.GA object at 0x00000260D78687C0> = Best Loss: -751016.6443721614\n",
      "<pygad.pygad.GA object at 0x00000260D78687C0> = Best Loss: -751016.6443721614\n",
      "<pygad.pygad.GA object at 0x00000260D78687C0> = Best Loss: -751016.6443721614\n",
      "<pygad.pygad.GA object at 0x00000260D78687C0> = Best Loss: -751016.6443721614\n",
      "<pygad.pygad.GA object at 0x00000260D78687C0> = Best Loss: -751016.6443721614\n",
      "<pygad.pygad.GA object at 0x00000260D78687C0> = Best Loss: -751016.6443721614\n",
      "<pygad.pygad.GA object at 0x00000260D78687C0> = Best Loss: -751016.6443721614\n",
      "<pygad.pygad.GA object at 0x00000260D78687C0> = Best Loss: -751016.6443721614\n",
      "<pygad.pygad.GA object at 0x00000260D78687C0> = Best Loss: -751016.6443721614\n",
      "<pygad.pygad.GA object at 0x00000260D78687C0> = Best Loss: -751016.6443721614\n",
      "<pygad.pygad.GA object at 0x00000260D78687C0> = Best Loss: -751016.6443721614\n",
      "<pygad.pygad.GA object at 0x00000260D78687C0> = Best Loss: -751016.6443721614\n",
      "<pygad.pygad.GA object at 0x00000260D78687C0> = Best Loss: -751016.6443721614\n",
      "<pygad.pygad.GA object at 0x00000260D78687C0> = Best Loss: -751016.6443721614\n",
      "<pygad.pygad.GA object at 0x00000260D78687C0> = Best Loss: -751016.6443721614\n",
      "<pygad.pygad.GA object at 0x00000260D78687C0> = Best Loss: -751016.6443721614\n",
      "<pygad.pygad.GA object at 0x00000260D78687C0> = Best Loss: -751016.6443721614\n",
      "<pygad.pygad.GA object at 0x00000260D78687C0> = Best Loss: -751016.6443721614\n",
      "<pygad.pygad.GA object at 0x00000260D78687C0> = Best Loss: -751016.6443721614\n",
      "<pygad.pygad.GA object at 0x00000260D78687C0> = Best Loss: -751016.6443721614\n",
      "<pygad.pygad.GA object at 0x00000260D78687C0> = Best Loss: -751016.6443721614\n",
      "<pygad.pygad.GA object at 0x00000260D78687C0> = Best Loss: -751016.6443721614\n",
      "<pygad.pygad.GA object at 0x00000260D78687C0> = Best Loss: -751016.6443721614\n",
      "<pygad.pygad.GA object at 0x00000260D78687C0> = Best Loss: -751016.6443721614\n",
      "<pygad.pygad.GA object at 0x00000260D78687C0> = Best Loss: -751016.6443721614\n",
      "<pygad.pygad.GA object at 0x00000260D78687C0> = Best Loss: -751016.6443721614\n",
      "<pygad.pygad.GA object at 0x00000260D78687C0> = Best Loss: -751016.6443721614\n",
      "<pygad.pygad.GA object at 0x00000260D78687C0> = Best Loss: -751016.6443721614\n",
      "<pygad.pygad.GA object at 0x00000260D78687C0> = Best Loss: -751016.6443721614\n",
      "<pygad.pygad.GA object at 0x00000260D78687C0> = Best Loss: -751016.6443721614\n",
      "<pygad.pygad.GA object at 0x00000260D78687C0> = Best Loss: -751016.6443721614\n",
      "<pygad.pygad.GA object at 0x00000260D78687C0> = Best Loss: -751016.6443721614\n",
      "<pygad.pygad.GA object at 0x00000260D78687C0> = Best Loss: -751016.6443721614\n",
      "<pygad.pygad.GA object at 0x00000260D78687C0> = Best Loss: -751016.6443721614\n",
      "<pygad.pygad.GA object at 0x00000260D78687C0> = Best Loss: -751016.6443721614\n",
      "<pygad.pygad.GA object at 0x00000260D78687C0> = Best Loss: -751016.6443721614\n",
      "<pygad.pygad.GA object at 0x00000260D78687C0> = Best Loss: -751016.6443721614\n",
      "<pygad.pygad.GA object at 0x00000260D78687C0> = Best Loss: -751016.6443721614\n",
      "<pygad.pygad.GA object at 0x00000260D78687C0> = Best Loss: -751016.6443721614\n",
      "<pygad.pygad.GA object at 0x00000260D78687C0> = Best Loss: -751016.6443721614\n",
      "<pygad.pygad.GA object at 0x00000260D78687C0> = Best Loss: -751016.6443721614\n",
      "<pygad.pygad.GA object at 0x00000260D78687C0> = Best Loss: -751016.6443721614\n",
      "<pygad.pygad.GA object at 0x00000260D78687C0> = Best Loss: -751016.6443721614\n",
      "<pygad.pygad.GA object at 0x00000260D78687C0> = Best Loss: -751016.6443721614\n",
      "<pygad.pygad.GA object at 0x00000260D78687C0> = Best Loss: -751016.6443721614\n",
      "<pygad.pygad.GA object at 0x00000260D78687C0> = Best Loss: -751016.6443721614\n",
      "<pygad.pygad.GA object at 0x00000260D78687C0> = Best Loss: -751016.6443721614\n",
      "<pygad.pygad.GA object at 0x00000260D78687C0> = Best Loss: -751016.6443721614\n",
      "<pygad.pygad.GA object at 0x00000260D78687C0> = Best Loss: -751016.6443721614\n",
      "<pygad.pygad.GA object at 0x00000260D78687C0> = Best Loss: -751016.6443721614\n",
      "<pygad.pygad.GA object at 0x00000260D78687C0> = Best Loss: -751016.6443721614\n",
      "<pygad.pygad.GA object at 0x00000260D78687C0> = Best Loss: -751016.6443721614\n",
      "<pygad.pygad.GA object at 0x00000260D78687C0> = Best Loss: -751016.6443721614\n",
      "<pygad.pygad.GA object at 0x00000260D78687C0> = Best Loss: -751016.6443721614\n",
      "<pygad.pygad.GA object at 0x00000260D78687C0> = Best Loss: -751016.6443721614\n",
      "<pygad.pygad.GA object at 0x00000260D78687C0> = Best Loss: -751016.6443721614\n",
      "<pygad.pygad.GA object at 0x00000260D78687C0> = Best Loss: -751016.6443721614\n"
     ]
    }
   ],
   "source": [
    "ga_instance.run()"
   ]
  },
  {
   "cell_type": "code",
   "execution_count": 65,
   "metadata": {},
   "outputs": [
    {
     "name": "stdout",
     "output_type": "stream",
     "text": [
      "Fitness value of the best solution = -751016.6443721614\n",
      "Generic Prediction : -751016.6443721614\n"
     ]
    }
   ],
   "source": [
    "solution, solution_fitness, solution_idx = ga_instance.best_solution()\n",
    "#print(\"Parameters of the best solution : {solution}\".format(solution=solution))\n",
    "print(\"Fitness value of the best solution = {solution_fitness}\".format(solution_fitness=solution_fitness))\n",
    "\n",
    "print(f\"Generic Prediction : {fitness_func([1]*int(parameters), None)}\")\n"
   ]
  },
  {
   "cell_type": "code",
   "execution_count": 66,
   "metadata": {},
   "outputs": [
    {
     "ename": "AttributeError",
     "evalue": "'NN' object has no attribute 'weights'",
     "output_type": "error",
     "traceback": [
      "\u001b[1;31m---------------------------------------------------------------------------\u001b[0m",
      "\u001b[1;31mAttributeError\u001b[0m                            Traceback (most recent call last)",
      "\u001b[1;32m<ipython-input-66-d5063e5aa006>\u001b[0m in \u001b[0;36m<module>\u001b[1;34m\u001b[0m\n\u001b[1;32m----> 1\u001b[1;33m \u001b[0mnn\u001b[0m\u001b[1;33m.\u001b[0m\u001b[0minfo\u001b[0m\u001b[1;33m[\u001b[0m\u001b[1;34m\"weights\"\u001b[0m\u001b[1;33m]\u001b[0m \u001b[1;33m=\u001b[0m \u001b[0marray2ndarray\u001b[0m\u001b[1;33m(\u001b[0m\u001b[0msolution\u001b[0m\u001b[1;33m,\u001b[0m \u001b[0mself\u001b[0m\u001b[1;33m.\u001b[0m\u001b[0mweights\u001b[0m\u001b[1;33m)\u001b[0m\u001b[1;33m\u001b[0m\u001b[1;33m\u001b[0m\u001b[0m\n\u001b[0m\u001b[0;32m      2\u001b[0m \u001b[0my_pred\u001b[0m \u001b[1;33m=\u001b[0m \u001b[0mself\u001b[0m\u001b[1;33m.\u001b[0m\u001b[0mpredict\u001b[0m\u001b[1;33m(\u001b[0m\u001b[0mX\u001b[0m\u001b[1;33m)\u001b[0m\u001b[1;33m\u001b[0m\u001b[1;33m\u001b[0m\u001b[0m\n",
      "\u001b[1;31mAttributeError\u001b[0m: 'NN' object has no attribute 'weights'"
     ]
    }
   ],
   "source": [
    "nn.info[\"weights\"] = array2ndarray(solution, self.weights)\n",
    "y_pred = self.predict(X)"
   ]
  },
  {
   "cell_type": "code",
   "execution_count": null,
   "metadata": {},
   "outputs": [
    {
     "data": {
      "text/plain": [
       "[<matplotlib.lines.Line2D at 0x1bf4f89f910>]"
      ]
     },
     "execution_count": 34,
     "metadata": {},
     "output_type": "execute_result"
    },
    {
     "data": {
      "image/png": "[encoded data removed]",
      "text/plain": [
       "<Figure size 432x288 with 1 Axes>"
      ]
     },
     "metadata": {
      "needs_background": "light"
     },
     "output_type": "display_data"
    }
   ],
   "source": [
    "plt.scatter(x = y, y = y_pred)\n",
    "plt.plot([min(y), max(y)], [min(y), max(y)])"
   ]
  },
  {
   "cell_type": "code",
   "execution_count": null,
   "metadata": {},
   "outputs": [],
   "source": []
  },
  {
   "cell_type": "code",
   "execution_count": null,
   "metadata": {},
   "outputs": [],
   "source": []
  }
 ],
 "metadata": {
  "kernelspec": {
   "display_name": "Python 3",
   "language": "python",
   "name": "python3"
  },
  "language_info": {
   "codemirror_mode": {
    "name": "ipython",
    "version": 3
   },
   "file_extension": ".py",
   "mimetype": "text/x-python",
   "name": "python",
   "nbconvert_exporter": "python",
   "pygments_lexer": "ipython3",
   "version": "3.8.5"
  },
  "vscode": {
   "interpreter": {
    "hash": "d75af684bc2d43b24852edad0f68f7cdb57df0ef378bc27b5f5cba476e78e901"
   }
  }
 },
 "nbformat": 4,
 "nbformat_minor": 4
}
